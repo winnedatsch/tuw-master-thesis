{
 "cells": [
  {
   "cell_type": "markdown",
   "metadata": {},
   "source": [
    "# Evaluation"
   ]
  },
  {
   "cell_type": "markdown",
   "metadata": {},
   "source": [
    "## Preparations"
   ]
  },
  {
   "cell_type": "code",
   "execution_count": 1,
   "metadata": {},
   "outputs": [],
   "source": [
    "import sys, os\n",
    "import reload_recursive\n",
    "\n",
    "# sys path hack to allow importing the encoding functions and other modules\n",
    "sys.path.insert(0, os.path.abspath(\"../src\"))\n",
    "sys.path.insert(0, os.path.abspath(\"../externals\"))"
   ]
  },
  {
   "cell_type": "code",
   "execution_count": 2,
   "metadata": {},
   "outputs": [],
   "source": [
    "import torch \n",
    "\n",
    "if torch.cuda.is_available():\n",
    "    gpu = torch.device(\"cuda\")\n",
    "elif torch.backends.mps.is_available():\n",
    "    gpu = torch.device(\"mps\")\n",
    "else:\n",
    "    print(\"Warning: no GPU detected, falling back to CPU\")\n",
    "    gpu = torch.device(\"cpu\")"
   ]
  },
  {
   "cell_type": "code",
   "execution_count": 3,
   "metadata": {},
   "outputs": [],
   "source": [
    "# Clean old model from cache\n",
    "if \"model\" in locals() or \"model\" in globals():\n",
    "    del model\n",
    "torch.cuda.empty_cache()\n",
    "\n",
    "%reload model.clip_model\n",
    "from model.clip_model import CLIPModel\n",
    "model = CLIPModel(gpu, model=\"openai/clip-vit-base-patch32\")"
   ]
  },
  {
   "cell_type": "code",
   "execution_count": 4,
   "metadata": {},
   "outputs": [],
   "source": [
    "# Clean old model from cache\n",
    "if \"object_detector\" in locals() or \"object_detector\" in globals():\n",
    "    del object_detector\n",
    "torch.cuda.empty_cache()\n",
    "\n",
    "%reload object_detection.owl_vit_object_detector\n",
    "from object_detection.owl_vit_object_detector import OWLViTObjectDetector\n",
    "object_detector = OWLViTObjectDetector(gpu)"
   ]
  },
  {
   "cell_type": "markdown",
   "metadata": {},
   "source": [
    "## Dataset"
   ]
  },
  {
   "cell_type": "code",
   "execution_count": 5,
   "metadata": {},
   "outputs": [],
   "source": [
    "import json \n",
    "\n",
    "with open(\"../data/questions/val_sampled_questions_10000.json\") as f:\n",
    "   questions = list(json.load(f).items())"
   ]
  },
  {
   "cell_type": "markdown",
   "metadata": {},
   "source": [
    "## Evaluation"
   ]
  },
  {
   "cell_type": "code",
   "execution_count": 6,
   "metadata": {},
   "outputs": [],
   "source": [
    "from clingo.control import Control \n",
    "%reload pipeline.encoding\n",
    "from pipeline.encoding import encode_question, encode_scene, sanitize_asp\n",
    "import time\n",
    "\n",
    "def answer_is_correct(answers, correct_answer):\n",
    "    correct = False \n",
    "\n",
    "    for answer in answers:\n",
    "        if answer == sanitize_asp(correct_answer): \n",
    "            correct = True\n",
    "        elif (answer == \"to_the_right_of\" and correct_answer == \"right\") or \\\n",
    "            (answer == \"to_the_left_of\" and correct_answer == \"left\") or \\\n",
    "            (answer == \"in_front_of\" and correct_answer == \"front\"):\n",
    "            correct = True\n",
    "    return correct \n",
    "\n",
    "def count_operators(question):\n",
    "    operations = [\"select\", \"query\", \"filter\", \"relate\", \"verify\", \"choose\", \"exist\", \"or\", \"different\", \"and\", \"same\", \"common\"]\n",
    "    op_counts = {f\"op_{op}\": 0 for op in operations}\n",
    "    for op in question[\"semantic\"]:\n",
    "        operator = op[\"operation\"].split(\" \")[0]\n",
    "        op_counts[f\"op_{operator}\"] += 1\n",
    "    return op_counts\n",
    "\n",
    "def is_scene_question(question):\n",
    "    return question[\"semantic\"][0][\"operation\"] == \"select\" and question[\"semantic\"][0][\"argument\"] == \"scene\"\n",
    "\n",
    "def evaluate_question(question, asp_theory): \n",
    "    op_counts = count_operators(question)\n",
    "    result = {\n",
    "        \"question_id\": question[\"qid\"], \n",
    "        \"semantic_str\": question[\"semanticStr\"], \n",
    "        \"image_id\": question[\"imageId\"],\n",
    "        \"answer\": question[\"answer\"],\n",
    "        **op_counts\n",
    "    }\n",
    "    \n",
    "    if is_scene_question(question):\n",
    "        return {**result, \"skipped\": True, \"model_response\": None, \"correct\": False, \"timeout\": False, \"runtime_sec\": 0.0}\n",
    "    else:\n",
    "        result[\"skipped\"] = False\n",
    "        start = time.time()\n",
    "        ctl = Control()\n",
    "        ctl.add(asp_theory)\n",
    "\n",
    "        scene_encoding = encode_scene(question, model, object_detector)\n",
    "        question_encoding = encode_question(question)\n",
    "\n",
    "        with open(f\"../data/encoded_questions/{qid}.lp\", \"w\") as f:\n",
    "            f.write(\"% ------ scene encoding ------\\n\")\n",
    "            f.write(scene_encoding)\n",
    "            f.write(\"\\n% ------ question encoding ------\\n\")\n",
    "            f.write(question_encoding)\n",
    "\n",
    "        ctl.add(scene_encoding)\n",
    "        ctl.add(question_encoding)\n",
    "\n",
    "        answers = [[]]\n",
    "        def on_model(model):\n",
    "            answers[0] = [s.arguments[0].name for s in model.symbols(shown=True)]\n",
    "\n",
    "        ctl.ground()\n",
    "        handle = ctl.solve(on_model=on_model, async_ = True)\n",
    "        has_finished = handle.wait(timeout=10.0)\n",
    "        end = time.time()\n",
    "        result[\"timeout\"] = not has_finished\n",
    "        result[\"runtime_sec\"] = end - start\n",
    "\n",
    "        if len(answers[0]) > 0:\n",
    "            return {**result, \"model_response\": answers[0], \"correct\": answer_is_correct(answers[0], question[\"answer\"])}\n",
    "        else: \n",
    "            return {**result, \"model_response\": \"UNSAT\", \"correct\": False}"
   ]
  },
  {
   "cell_type": "code",
   "execution_count": 7,
   "metadata": {},
   "outputs": [
    {
     "data": {
      "application/vnd.jupyter.widget-view+json": {
       "model_id": "486d65e6e4524b0fae86f7e6d9f5fd07",
       "version_major": 2,
       "version_minor": 0
      },
      "text/plain": [
       "Questions:   0%|          | 0/1000 [00:00<?, ?it/s]"
      ]
     },
     "metadata": {},
     "output_type": "display_data"
    },
    {
     "name": "stdout",
     "output_type": "stream",
     "text": [
      "Step     200: Corr      93, Incorr      98, UNSAT       1, Skip     9, Corr %: 48.6911%\n",
      "Step     400: Corr     179, Incorr     208, UNSAT       1, Skip    13, Corr %: 46.2532%\n",
      "Step     600: Corr     275, Incorr     304, UNSAT       4, Skip    21, Corr %: 47.4957%\n",
      "Step     800: Corr     367, Incorr     402, UNSAT       4, Skip    31, Corr %: 47.7243%\n",
      "Step    1000: Corr     458, Incorr     503, UNSAT       5, Skip    39, Corr %: 47.6587%\n",
      "Step    1000: Corr     458, Incorr     503, UNSAT       5, Skip    39, Corr %: 47.6587%\n"
     ]
    }
   ],
   "source": [
    "from itertools import islice\n",
    "from tqdm.notebook import tqdm \n",
    "import pandas as pd\n",
    "import os\n",
    "import json\n",
    "\n",
    "with open(\"../src/pipeline/encoding/theory.lp\") as theory_file:\n",
    "    theory = theory_file.read()\n",
    "\n",
    "num_questions = 1000\n",
    "results = []\n",
    "history = []\n",
    "last_step = -1\n",
    "snapshot_steps = 200\n",
    "snapshot_dir = \"evaluations/val_1000\"\n",
    "\n",
    "if not os.path.exists(snapshot_dir):\n",
    "    os.mkdir(snapshot_dir)\n",
    "\n",
    "if os.path.isfile(f\"{snapshot_dir}/history.json\"):\n",
    "    with open(f\"{snapshot_dir}/history.json\") as f:\n",
    "        history = json.load(f)\n",
    "        last_step = history[-1][\"step\"] - 1\n",
    "    results_pd = pd.read_pickle(f\"{snapshot_dir}/results_snapshot.pkl\")\n",
    "    results = results_pd.to_dict(\"records\")\n",
    "\n",
    "progress_bar = tqdm(total=num_questions, desc=\"Questions\")\n",
    "\n",
    "def report_results(i):\n",
    "    results_pd = pd.DataFrame(results)\n",
    "    results_pd.to_pickle(f\"{snapshot_dir}/results_snapshot.pkl\")\n",
    "    num_skipped = results_pd[results_pd[\"skipped\"]].shape[0]\n",
    "    num_correct = results_pd[results_pd[\"correct\"]].shape[0]\n",
    "    num_incorrect = results_pd[~results_pd[\"skipped\"] & ~results_pd[\"correct\"]].shape[0]\n",
    "    num_unsat =  results_pd[results_pd[\"model_response\"] == \"UNSAT\"].shape[0]\n",
    "\n",
    "    history.append({\"step\": i+1, \"correct\": num_correct, \"incorrect\": num_incorrect, \"unsat\": num_unsat, \"skipped\": num_skipped, \"correct_percentage\": num_correct/(num_incorrect+num_correct)*100})\n",
    "    with open(f\"{snapshot_dir}/history.json\", 'w') as f:\n",
    "        json.dump(history, f, indent=4)\n",
    "\n",
    "    progress_bar.write(f\"Step {i+1:7d}: Corr {num_correct:7d}, Incorr {num_incorrect:7d}, UNSAT {num_unsat:7d}, Skip {num_skipped:5d}, Corr %: {(num_correct/(num_incorrect+num_correct)*100):.4f}%\")\n",
    "\n",
    "for i, (qid, question) in enumerate(list(islice(questions, 0, num_questions))):\n",
    "    if i <= last_step:\n",
    "        progress_bar.update(1)\n",
    "        continue\n",
    "    \n",
    "    question[\"qid\"] = qid\n",
    "    results.append(evaluate_question(question, theory))\n",
    "\n",
    "    if i % snapshot_steps == (snapshot_steps - 1):\n",
    "        report_results(i)\n",
    "    progress_bar.update(1)\n",
    "\n",
    "report_results(i)"
   ]
  }
 ],
 "metadata": {
  "kernelspec": {
   "display_name": "jhadl_tf",
   "language": "python",
   "name": "python3"
  },
  "language_info": {
   "codemirror_mode": {
    "name": "ipython",
    "version": 3
   },
   "file_extension": ".py",
   "mimetype": "text/x-python",
   "name": "python",
   "nbconvert_exporter": "python",
   "pygments_lexer": "ipython3",
   "version": "3.11.2"
  },
  "orig_nbformat": 4
 },
 "nbformat": 4,
 "nbformat_minor": 2
}
