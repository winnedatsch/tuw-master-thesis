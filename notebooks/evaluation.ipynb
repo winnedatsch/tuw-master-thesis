{
 "cells": [
  {
   "cell_type": "markdown",
   "metadata": {},
   "source": [
    "# Evaluation"
   ]
  },
  {
   "cell_type": "markdown",
   "metadata": {},
   "source": [
    "## Preparations"
   ]
  },
  {
   "cell_type": "code",
   "execution_count": 1,
   "metadata": {},
   "outputs": [],
   "source": [
    "import sys, os\n",
    "import reload_recursive\n",
    "\n",
    "# sys path hack to allow importing the encoding functions and other modules\n",
    "sys.path.insert(0, os.path.abspath(\"../src\"))\n",
    "sys.path.insert(0, os.path.abspath(\"../externals\"))"
   ]
  },
  {
   "cell_type": "code",
   "execution_count": 2,
   "metadata": {},
   "outputs": [],
   "source": [
    "import torch \n",
    "\n",
    "if torch.cuda.is_available():\n",
    "    gpu = torch.device(\"cuda\")\n",
    "elif torch.backends.mps.is_available():\n",
    "    gpu = torch.device(\"mps\")\n",
    "else:\n",
    "    print(\"Warning: no GPU detected, falling back to CPU\")\n",
    "    gpu = torch.device(\"cpu\")"
   ]
  },
  {
   "cell_type": "code",
   "execution_count": 3,
   "metadata": {},
   "outputs": [],
   "source": [
    "# Clean old model from cache\n",
    "if \"model\" in locals() or \"model\" in globals():\n",
    "    del model\n",
    "torch.cuda.empty_cache()\n",
    "\n",
    "%reload model.clip_model\n",
    "from model.clip_model import CLIPModel\n",
    "model = CLIPModel(gpu, model=\"openai/clip-vit-base-patch32\", snapshot=\"model_snapshots/clip_finetune/checkpoint-66000\")"
   ]
  },
  {
   "cell_type": "code",
   "execution_count": 4,
   "metadata": {},
   "outputs": [],
   "source": [
    "# Clean old model from cache\n",
    "if \"object_detector\" in locals() or \"object_detector\" in globals():\n",
    "    del object_detector\n",
    "torch.cuda.empty_cache()\n",
    "\n",
    "%reload object_detection.owl_vit_object_detector\n",
    "from object_detection.owl_vit_object_detector import OWLViTObjectDetector\n",
    "object_detector = OWLViTObjectDetector(gpu)"
   ]
  },
  {
   "cell_type": "markdown",
   "metadata": {},
   "source": [
    "## Dataset"
   ]
  },
  {
   "cell_type": "code",
   "execution_count": 5,
   "metadata": {},
   "outputs": [],
   "source": [
    "import json \n",
    "\n",
    "with open(\"../data/questions/testdev_balanced_questions.json\") as f:\n",
    "   questions = list(json.load(f).items())"
   ]
  },
  {
   "cell_type": "markdown",
   "metadata": {},
   "source": [
    "## Evaluation"
   ]
  },
  {
   "cell_type": "code",
   "execution_count": 6,
   "metadata": {},
   "outputs": [],
   "source": [
    "from clingo.control import Control \n",
    "%reload pipeline.encoding\n",
    "from pipeline.encoding import encode_question, encode_scene, sanitize_asp\n",
    "import time\n",
    "\n",
    "def answer_is_correct(answers, correct_answer):\n",
    "    correct = False \n",
    "\n",
    "    for answer in answers:\n",
    "        if answer == sanitize_asp(correct_answer): \n",
    "            correct = True\n",
    "        elif (answer == \"to_the_right_of\" and correct_answer == \"right\") or \\\n",
    "            (answer == \"to_the_left_of\" and correct_answer == \"left\") or \\\n",
    "            (answer == \"in_front_of\" and correct_answer == \"front\"):\n",
    "            correct = True\n",
    "    return correct \n",
    "\n",
    "def count_operators(question):\n",
    "    operations = [\"select\", \"query\", \"filter\", \"relate\", \"verify\", \"choose\", \"exist\", \"or\", \"different\", \"and\", \"same\", \"common\"]\n",
    "    op_counts = {f\"op_{op}\": 0 for op in operations}\n",
    "    for op in question[\"semantic\"]:\n",
    "        operator = op[\"operation\"].split(\" \")[0]\n",
    "        op_counts[f\"op_{operator}\"] += 1\n",
    "    return op_counts\n",
    "\n",
    "def is_scene_question(question):\n",
    "    return question[\"semantic\"][0][\"operation\"] == \"select\" and question[\"semantic\"][0][\"argument\"] == \"scene\"\n",
    "\n",
    "def evaluate_question(question, asp_theory): \n",
    "    op_counts = count_operators(question)\n",
    "    result = {\n",
    "        \"question_id\": question[\"qid\"], \n",
    "        \"semantic_str\": question[\"semanticStr\"], \n",
    "        \"image_id\": question[\"imageId\"],\n",
    "        \"answer\": question[\"answer\"],\n",
    "        **op_counts\n",
    "    }\n",
    "    \n",
    "    if is_scene_question(question):\n",
    "        return {**result, \"skipped\": True, \"model_response\": None, \"correct\": False, \"timeout\": False, \"runtime_sec\": 0.0}\n",
    "    else:\n",
    "        result[\"skipped\"] = False\n",
    "        start = time.time()\n",
    "        ctl = Control()\n",
    "        ctl.add(asp_theory)\n",
    "\n",
    "        scene_encoding = encode_scene(question, model, object_detector)\n",
    "        question_encoding = encode_question(question)\n",
    "\n",
    "        with open(f\"../data/encoded_questions/{qid}.lp\", \"w\") as f:\n",
    "            f.write(\"% ------ scene encoding ------\\n\")\n",
    "            f.write(scene_encoding)\n",
    "            f.write(\"\\n% ------ question encoding ------\\n\")\n",
    "            f.write(question_encoding)\n",
    "\n",
    "        ctl.add(scene_encoding)\n",
    "        ctl.add(question_encoding)\n",
    "\n",
    "        answers = [[]]\n",
    "        def on_model(model):\n",
    "            answers[0] = [s.arguments[0].name for s in model.symbols(shown=True)]\n",
    "\n",
    "        ctl.ground()\n",
    "        handle = ctl.solve(on_model=on_model, async_ = True)\n",
    "        has_finished = handle.wait(timeout=10.0)\n",
    "        end = time.time()\n",
    "        result[\"timeout\"] = not has_finished\n",
    "        result[\"runtime_sec\"] = end - start\n",
    "\n",
    "        if len(answers[0]) > 0:\n",
    "            return {**result, \"model_response\": answers[0], \"correct\": answer_is_correct(answers[0], question[\"answer\"])}\n",
    "        else: \n",
    "            return {**result, \"model_response\": \"UNSAT\", \"correct\": False}"
   ]
  },
  {
   "cell_type": "code",
   "execution_count": 7,
   "metadata": {},
   "outputs": [
    {
     "data": {
      "application/vnd.jupyter.widget-view+json": {
       "model_id": "767586dc551848c9904d040074f67ac9",
       "version_major": 2,
       "version_minor": 0
      },
      "text/plain": [
       "Questions:   0%|          | 0/12578 [00:00<?, ?it/s]"
      ]
     },
     "metadata": {},
     "output_type": "display_data"
    },
    {
     "name": "stdout",
     "output_type": "stream",
     "text": [
      "Step    2200: Corr     881, Incorr    1292, UNSAT      63, Skip    27, Corr %: 40.5430%\n",
      "Step    2400: Corr     954, Incorr    1419, UNSAT      79, Skip    27, Corr %: 40.2023%\n",
      "Step    2600: Corr    1035, Incorr    1535, UNSAT      89, Skip    30, Corr %: 40.2724%\n",
      "Step    2800: Corr    1128, Incorr    1642, UNSAT      96, Skip    30, Corr %: 40.7220%\n",
      "Step    3000: Corr    1208, Incorr    1761, UNSAT     102, Skip    31, Corr %: 40.6871%\n",
      "Step    3200: Corr    1280, Incorr    1886, UNSAT     110, Skip    34, Corr %: 40.4296%\n",
      "Step    3400: Corr    1354, Incorr    2010, UNSAT     120, Skip    36, Corr %: 40.2497%\n",
      "Step    3600: Corr    1435, Incorr    2129, UNSAT     124, Skip    36, Corr %: 40.2637%\n",
      "Step    3800: Corr    1517, Incorr    2243, UNSAT     131, Skip    40, Corr %: 40.3457%\n",
      "Step    4000: Corr    1603, Incorr    2355, UNSAT     139, Skip    42, Corr %: 40.5003%\n",
      "Step    4200: Corr    1692, Incorr    2463, UNSAT     147, Skip    45, Corr %: 40.7220%\n",
      "Step    4400: Corr    1777, Incorr    2576, UNSAT     154, Skip    47, Corr %: 40.8224%\n",
      "Step    4600: Corr    1862, Incorr    2683, UNSAT     160, Skip    55, Corr %: 40.9681%\n",
      "Step    4800: Corr    1942, Incorr    2801, UNSAT     170, Skip    57, Corr %: 40.9445%\n",
      "Step    5000: Corr    2033, Incorr    2906, UNSAT     176, Skip    61, Corr %: 41.1622%\n",
      "Step    5200: Corr    2119, Incorr    3018, UNSAT     183, Skip    63, Corr %: 41.2498%\n",
      "Step    5400: Corr    2206, Incorr    3130, UNSAT     189, Skip    64, Corr %: 41.3418%\n",
      "Step    5600: Corr    2294, Incorr    3237, UNSAT     199, Skip    69, Corr %: 41.4753%\n",
      "Step    5800: Corr    2378, Incorr    3351, UNSAT     207, Skip    71, Corr %: 41.5081%\n",
      "Step    6000: Corr    2459, Incorr    3462, UNSAT     209, Skip    79, Corr %: 41.5301%\n",
      "Step    6200: Corr    2554, Incorr    3567, UNSAT     218, Skip    79, Corr %: 41.7252%\n",
      "Step    6400: Corr    2634, Incorr    3685, UNSAT     224, Skip    81, Corr %: 41.6838%\n",
      "Step    6600: Corr    2716, Incorr    3801, UNSAT     230, Skip    83, Corr %: 41.6756%\n",
      "Step    6800: Corr    2809, Incorr    3907, UNSAT     235, Skip    84, Corr %: 41.8255%\n",
      "Step    7000: Corr    2891, Incorr    4022, UNSAT     245, Skip    87, Corr %: 41.8198%\n",
      "Step    7200: Corr    2983, Incorr    4125, UNSAT     248, Skip    92, Corr %: 41.9668%\n",
      "Step    7400: Corr    3066, Incorr    4240, UNSAT     253, Skip    94, Corr %: 41.9655%\n",
      "Step    7600: Corr    3151, Incorr    4351, UNSAT     257, Skip    98, Corr %: 42.0021%\n",
      "Step    7800: Corr    3215, Incorr    4483, UNSAT     260, Skip   102, Corr %: 41.7641%\n",
      "Step    8000: Corr    3301, Incorr    4592, UNSAT     265, Skip   107, Corr %: 41.8219%\n",
      "Step    8200: Corr    3381, Incorr    4707, UNSAT     273, Skip   112, Corr %: 41.8027%\n",
      "Step    8400: Corr    3448, Incorr    4839, UNSAT     281, Skip   113, Corr %: 41.6073%\n",
      "Step    8600: Corr    3531, Incorr    4954, UNSAT     286, Skip   115, Corr %: 41.6146%\n",
      "Step    8800: Corr    3617, Incorr    5066, UNSAT     295, Skip   117, Corr %: 41.6561%\n",
      "Step    9000: Corr    3706, Incorr    5173, UNSAT     303, Skip   121, Corr %: 41.7389%\n",
      "Step    9200: Corr    3793, Incorr    5286, UNSAT     308, Skip   121, Corr %: 41.7777%\n",
      "Step    9400: Corr    3880, Incorr    5396, UNSAT     319, Skip   124, Corr %: 41.8284%\n",
      "Step    9600: Corr    3963, Incorr    5511, UNSAT     327, Skip   126, Corr %: 41.8303%\n",
      "Step    9800: Corr    4036, Incorr    5635, UNSAT     331, Skip   129, Corr %: 41.7330%\n"
     ]
    }
   ],
   "source": [
    "from itertools import islice\n",
    "from tqdm.notebook import tqdm \n",
    "import pandas as pd\n",
    "import os\n",
    "import json\n",
    "\n",
    "with open(\"../src/pipeline/encoding/theory.lp\") as theory_file:\n",
    "    theory = theory_file.read()\n",
    "\n",
    "num_questions = len(questions)\n",
    "results = []\n",
    "history = []\n",
    "last_step = -1\n",
    "snapshot_steps = 200\n",
    "snapshot_dir = \"evaluations/testdev_tuned_clipbase_owllarge2\"\n",
    "\n",
    "if not os.path.exists(snapshot_dir):\n",
    "    os.mkdir(snapshot_dir)\n",
    "\n",
    "if os.path.isfile(f\"{snapshot_dir}/history.json\"):\n",
    "    with open(f\"{snapshot_dir}/history.json\") as f:\n",
    "        history = json.load(f)\n",
    "        last_step = history[-1][\"step\"] - 1\n",
    "    results_pd = pd.read_pickle(f\"{snapshot_dir}/results_snapshot.pkl\")\n",
    "    results = results_pd.to_dict(\"records\")\n",
    "\n",
    "progress_bar = tqdm(total=num_questions, desc=\"Questions\")\n",
    "\n",
    "def report_results(i):\n",
    "    results_pd = pd.DataFrame(results)\n",
    "    results_pd.to_pickle(f\"{snapshot_dir}/results_snapshot.pkl\")\n",
    "    num_skipped = results_pd[results_pd[\"skipped\"]].shape[0]\n",
    "    num_correct = results_pd[results_pd[\"correct\"]].shape[0]\n",
    "    num_incorrect = results_pd[~results_pd[\"skipped\"] & ~results_pd[\"correct\"]].shape[0]\n",
    "    num_unsat =  results_pd[results_pd[\"model_response\"] == \"UNSAT\"].shape[0]\n",
    "\n",
    "    history.append({\"step\": i+1, \"correct\": num_correct, \"incorrect\": num_incorrect, \"unsat\": num_unsat, \"skipped\": num_skipped, \"correct_percentage\": num_correct/(num_incorrect+num_correct)*100})\n",
    "    with open(f\"{snapshot_dir}/history.json\", 'w') as f:\n",
    "        json.dump(history, f, indent=4)\n",
    "\n",
    "    progress_bar.write(f\"Step {i+1:7d}: Corr {num_correct:7d}, Incorr {num_incorrect:7d}, UNSAT {num_unsat:7d}, Skip {num_skipped:5d}, Corr %: {(num_correct/(num_incorrect+num_correct)*100):.4f}%\")\n",
    "\n",
    "for i, (qid, question) in enumerate(list(islice(questions, 0, num_questions))):\n",
    "    if i <= last_step:\n",
    "        progress_bar.update(1)\n",
    "        continue\n",
    "    \n",
    "    question[\"qid\"] = qid\n",
    "    results.append(evaluate_question(question, theory))\n",
    "\n",
    "    if i % snapshot_steps == (snapshot_steps - 1):\n",
    "        report_results(i)\n",
    "    progress_bar.update(1)\n",
    "\n",
    "report_results(i)"
   ]
  }
 ],
 "metadata": {
  "kernelspec": {
   "display_name": "jhadl_tf",
   "language": "python",
   "name": "python3"
  },
  "language_info": {
   "codemirror_mode": {
    "name": "ipython",
    "version": 3
   },
   "file_extension": ".py",
   "mimetype": "text/x-python",
   "name": "python",
   "nbconvert_exporter": "python",
   "pygments_lexer": "ipython3",
   "version": "3.11.2"
  },
  "orig_nbformat": 4
 },
 "nbformat": 4,
 "nbformat_minor": 2
}
