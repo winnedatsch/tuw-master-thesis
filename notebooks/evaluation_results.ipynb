{
 "cells": [
  {
   "cell_type": "code",
   "execution_count": 1,
   "metadata": {},
   "outputs": [],
   "source": [
    "import pandas as pd\n",
    "\n",
    "run = pd.read_pickle(\"evaluations/testdev_sr_clipbase_owllarge/results_snapshot.pkl\")\n",
    "run_with_skips = run\n",
    "run = run[~run[\"skipped\"]]"
   ]
  },
  {
   "cell_type": "code",
   "execution_count": 2,
   "metadata": {},
   "outputs": [
    {
     "name": "stderr",
     "output_type": "stream",
     "text": [
      "/tmp/ipykernel_1678995/3510796415.py:7: SettingWithCopyWarning: \n",
      "A value is trying to be set on a copy of a slice from a DataFrame.\n",
      "Try using .loc[row_indexer,col_indexer] = value instead\n",
      "\n",
      "See the caveats in the documentation: https://pandas.pydata.org/pandas-docs/stable/user_guide/indexing.html#returning-a-view-versus-a-copy\n",
      "  run.loc[i, \"has_select\"] = bool(re.search(\"select\\(\", question_encoding))\n",
      "/tmp/ipykernel_1678995/3510796415.py:8: SettingWithCopyWarning: \n",
      "A value is trying to be set on a copy of a slice from a DataFrame.\n",
      "Try using .loc[row_indexer,col_indexer] = value instead\n",
      "\n",
      "See the caveats in the documentation: https://pandas.pydata.org/pandas-docs/stable/user_guide/indexing.html#returning-a-view-versus-a-copy\n",
      "  run.loc[i, \"has_filter\"] = bool(re.search(\"filter\\(\", question_encoding))\n",
      "/tmp/ipykernel_1678995/3510796415.py:9: SettingWithCopyWarning: \n",
      "A value is trying to be set on a copy of a slice from a DataFrame.\n",
      "Try using .loc[row_indexer,col_indexer] = value instead\n",
      "\n",
      "See the caveats in the documentation: https://pandas.pydata.org/pandas-docs/stable/user_guide/indexing.html#returning-a-view-versus-a-copy\n",
      "  run.loc[i, \"has_filter_any\"] = bool(re.search(\"filter_any\\(\", question_encoding))\n",
      "/tmp/ipykernel_1678995/3510796415.py:10: SettingWithCopyWarning: \n",
      "A value is trying to be set on a copy of a slice from a DataFrame.\n",
      "Try using .loc[row_indexer,col_indexer] = value instead\n",
      "\n",
      "See the caveats in the documentation: https://pandas.pydata.org/pandas-docs/stable/user_guide/indexing.html#returning-a-view-versus-a-copy\n",
      "  run.loc[i, \"has_relate\"] = bool(re.search(\"relate\\(\", question_encoding))\n",
      "/tmp/ipykernel_1678995/3510796415.py:11: SettingWithCopyWarning: \n",
      "A value is trying to be set on a copy of a slice from a DataFrame.\n",
      "Try using .loc[row_indexer,col_indexer] = value instead\n",
      "\n",
      "See the caveats in the documentation: https://pandas.pydata.org/pandas-docs/stable/user_guide/indexing.html#returning-a-view-versus-a-copy\n",
      "  run.loc[i, \"has_relate_any\"] = bool(re.search(\"relate_any\\(\", question_encoding))\n",
      "/tmp/ipykernel_1678995/3510796415.py:12: SettingWithCopyWarning: \n",
      "A value is trying to be set on a copy of a slice from a DataFrame.\n",
      "Try using .loc[row_indexer,col_indexer] = value instead\n",
      "\n",
      "See the caveats in the documentation: https://pandas.pydata.org/pandas-docs/stable/user_guide/indexing.html#returning-a-view-versus-a-copy\n",
      "  run.loc[i, \"has_relate_attr\"] = bool(re.search(\"relate_attr\\(\", question_encoding))\n",
      "/tmp/ipykernel_1678995/3510796415.py:13: SettingWithCopyWarning: \n",
      "A value is trying to be set on a copy of a slice from a DataFrame.\n",
      "Try using .loc[row_indexer,col_indexer] = value instead\n",
      "\n",
      "See the caveats in the documentation: https://pandas.pydata.org/pandas-docs/stable/user_guide/indexing.html#returning-a-view-versus-a-copy\n",
      "  run.loc[i, \"has_compare\"] = bool(re.search(\"compare\\(\", question_encoding))\n",
      "/tmp/ipykernel_1678995/3510796415.py:14: SettingWithCopyWarning: \n",
      "A value is trying to be set on a copy of a slice from a DataFrame.\n",
      "Try using .loc[row_indexer,col_indexer] = value instead\n",
      "\n",
      "See the caveats in the documentation: https://pandas.pydata.org/pandas-docs/stable/user_guide/indexing.html#returning-a-view-versus-a-copy\n",
      "  run.loc[i, \"has_query_attr\"] = bool(re.search(\"query\\(\\w+, \\w+, name\\)\", question_encoding))\n",
      "/tmp/ipykernel_1678995/3510796415.py:15: SettingWithCopyWarning: \n",
      "A value is trying to be set on a copy of a slice from a DataFrame.\n",
      "Try using .loc[row_indexer,col_indexer] = value instead\n",
      "\n",
      "See the caveats in the documentation: https://pandas.pydata.org/pandas-docs/stable/user_guide/indexing.html#returning-a-view-versus-a-copy\n",
      "  run.loc[i, \"has_query_name\"] = bool(re.search(\"query\\(\\w+, \\w+, (?!name)\\w+\\)\", question_encoding))\n",
      "/tmp/ipykernel_1678995/3510796415.py:16: SettingWithCopyWarning: \n",
      "A value is trying to be set on a copy of a slice from a DataFrame.\n",
      "Try using .loc[row_indexer,col_indexer] = value instead\n",
      "\n",
      "See the caveats in the documentation: https://pandas.pydata.org/pandas-docs/stable/user_guide/indexing.html#returning-a-view-versus-a-copy\n",
      "  run.loc[i, \"has_verify_attr\"] = bool(re.search(\"verify_attr\\(\", question_encoding))\n",
      "/tmp/ipykernel_1678995/3510796415.py:17: SettingWithCopyWarning: \n",
      "A value is trying to be set on a copy of a slice from a DataFrame.\n",
      "Try using .loc[row_indexer,col_indexer] = value instead\n",
      "\n",
      "See the caveats in the documentation: https://pandas.pydata.org/pandas-docs/stable/user_guide/indexing.html#returning-a-view-versus-a-copy\n",
      "  run.loc[i, \"has_verify_rel\"] = bool(re.search(\"verify_rel\\(\", question_encoding))\n",
      "/tmp/ipykernel_1678995/3510796415.py:18: SettingWithCopyWarning: \n",
      "A value is trying to be set on a copy of a slice from a DataFrame.\n",
      "Try using .loc[row_indexer,col_indexer] = value instead\n",
      "\n",
      "See the caveats in the documentation: https://pandas.pydata.org/pandas-docs/stable/user_guide/indexing.html#returning-a-view-versus-a-copy\n",
      "  run.loc[i, \"has_choose_attr\"] = bool(re.search(\"choose_attr\\(\", question_encoding))\n",
      "/tmp/ipykernel_1678995/3510796415.py:19: SettingWithCopyWarning: \n",
      "A value is trying to be set on a copy of a slice from a DataFrame.\n",
      "Try using .loc[row_indexer,col_indexer] = value instead\n",
      "\n",
      "See the caveats in the documentation: https://pandas.pydata.org/pandas-docs/stable/user_guide/indexing.html#returning-a-view-versus-a-copy\n",
      "  run.loc[i, \"has_choose_rel\"] = bool(re.search(\"choose_rel\\(\", question_encoding))\n",
      "/tmp/ipykernel_1678995/3510796415.py:21: SettingWithCopyWarning: \n",
      "A value is trying to be set on a copy of a slice from a DataFrame.\n",
      "Try using .loc[row_indexer,col_indexer] = value instead\n",
      "\n",
      "See the caveats in the documentation: https://pandas.pydata.org/pandas-docs/stable/user_guide/indexing.html#returning-a-view-versus-a-copy\n",
      "  run.loc[i, \"has_exist\"] = bool(re.search(\"exist\\(\", question_encoding))\n",
      "/tmp/ipykernel_1678995/3510796415.py:22: SettingWithCopyWarning: \n",
      "A value is trying to be set on a copy of a slice from a DataFrame.\n",
      "Try using .loc[row_indexer,col_indexer] = value instead\n",
      "\n",
      "See the caveats in the documentation: https://pandas.pydata.org/pandas-docs/stable/user_guide/indexing.html#returning-a-view-versus-a-copy\n",
      "  run.loc[i, \"has_two_same\"] = bool(re.search(\"two_same\\(\", question_encoding))\n",
      "/tmp/ipykernel_1678995/3510796415.py:23: SettingWithCopyWarning: \n",
      "A value is trying to be set on a copy of a slice from a DataFrame.\n",
      "Try using .loc[row_indexer,col_indexer] = value instead\n",
      "\n",
      "See the caveats in the documentation: https://pandas.pydata.org/pandas-docs/stable/user_guide/indexing.html#returning-a-view-versus-a-copy\n",
      "  run.loc[i, \"has_two_different\"] = bool(re.search(\"two_different\\(\", question_encoding))\n",
      "/tmp/ipykernel_1678995/3510796415.py:24: SettingWithCopyWarning: \n",
      "A value is trying to be set on a copy of a slice from a DataFrame.\n",
      "Try using .loc[row_indexer,col_indexer] = value instead\n",
      "\n",
      "See the caveats in the documentation: https://pandas.pydata.org/pandas-docs/stable/user_guide/indexing.html#returning-a-view-versus-a-copy\n",
      "  run.loc[i, \"has_all_same\"] = bool(re.search(\"all_same\\(\", question_encoding))\n",
      "/tmp/ipykernel_1678995/3510796415.py:25: SettingWithCopyWarning: \n",
      "A value is trying to be set on a copy of a slice from a DataFrame.\n",
      "Try using .loc[row_indexer,col_indexer] = value instead\n",
      "\n",
      "See the caveats in the documentation: https://pandas.pydata.org/pandas-docs/stable/user_guide/indexing.html#returning-a-view-versus-a-copy\n",
      "  run.loc[i, \"has_all_different\"] = bool(re.search(\"all_different\\(\", question_encoding))\n",
      "/tmp/ipykernel_1678995/3510796415.py:26: SettingWithCopyWarning: \n",
      "A value is trying to be set on a copy of a slice from a DataFrame.\n",
      "Try using .loc[row_indexer,col_indexer] = value instead\n",
      "\n",
      "See the caveats in the documentation: https://pandas.pydata.org/pandas-docs/stable/user_guide/indexing.html#returning-a-view-versus-a-copy\n",
      "  run.loc[i, \"has_common\"] = bool(re.search(\"common\\(\", question_encoding))\n",
      "/tmp/ipykernel_1678995/3510796415.py:27: SettingWithCopyWarning: \n",
      "A value is trying to be set on a copy of a slice from a DataFrame.\n",
      "Try using .loc[row_indexer,col_indexer] = value instead\n",
      "\n",
      "See the caveats in the documentation: https://pandas.pydata.org/pandas-docs/stable/user_guide/indexing.html#returning-a-view-versus-a-copy\n",
      "  run.loc[i, \"has_and\"] = bool(re.search(\"and\\(\", question_encoding))\n",
      "/tmp/ipykernel_1678995/3510796415.py:28: SettingWithCopyWarning: \n",
      "A value is trying to be set on a copy of a slice from a DataFrame.\n",
      "Try using .loc[row_indexer,col_indexer] = value instead\n",
      "\n",
      "See the caveats in the documentation: https://pandas.pydata.org/pandas-docs/stable/user_guide/indexing.html#returning-a-view-versus-a-copy\n",
      "  run.loc[i, \"has_or\"] = bool(re.search(\"or\\(\", question_encoding))\n"
     ]
    }
   ],
   "source": [
    "import re \n",
    "\n",
    "for i, row in run.iterrows():\n",
    "    with open(f\"../data/encoded_questions/{row['question_id']}.lp\") as f:\n",
    "        question_encoding = f.read()\n",
    "    \n",
    "    run.loc[i, \"has_select\"] = bool(re.search(\"select\\(\", question_encoding))\n",
    "    run.loc[i, \"has_filter\"] = bool(re.search(\"filter\\(\", question_encoding))\n",
    "    run.loc[i, \"has_filter_any\"] = bool(re.search(\"filter_any\\(\", question_encoding))\n",
    "    run.loc[i, \"has_relate\"] = bool(re.search(\"relate\\(\", question_encoding)) \n",
    "    run.loc[i, \"has_relate_any\"] = bool(re.search(\"relate_any\\(\", question_encoding))\n",
    "    run.loc[i, \"has_relate_attr\"] = bool(re.search(\"relate_attr\\(\", question_encoding))\n",
    "    run.loc[i, \"has_compare\"] = bool(re.search(\"compare\\(\", question_encoding))\n",
    "    run.loc[i, \"has_query_attr\"] = bool(re.search(\"query\\(\\w+, \\w+, name\\)\", question_encoding))\n",
    "    run.loc[i, \"has_query_name\"] = bool(re.search(\"query\\(\\w+, \\w+, (?!name)\\w+\\)\", question_encoding))\n",
    "    run.loc[i, \"has_verify_attr\"] = bool(re.search(\"verify_attr\\(\", question_encoding))\n",
    "    run.loc[i, \"has_verify_rel\"] = bool(re.search(\"verify_rel\\(\", question_encoding))\n",
    "    run.loc[i, \"has_choose_attr\"] = bool(re.search(\"choose_attr\\(\", question_encoding))\n",
    "    run.loc[i, \"has_choose_rel\"] = bool(re.search(\"choose_rel\\(\", question_encoding))\n",
    "    \n",
    "    run.loc[i, \"has_exist\"] = bool(re.search(\"exist\\(\", question_encoding))\n",
    "    run.loc[i, \"has_two_same\"] = bool(re.search(\"two_same\\(\", question_encoding))\n",
    "    run.loc[i, \"has_two_different\"] = bool(re.search(\"two_different\\(\", question_encoding))\n",
    "    run.loc[i, \"has_all_same\"] = bool(re.search(\"all_same\\(\", question_encoding))\n",
    "    run.loc[i, \"has_all_different\"] = bool(re.search(\"all_different\\(\", question_encoding))\n",
    "    run.loc[i, \"has_common\"] = bool(re.search(\"common\\(\", question_encoding))\n",
    "    run.loc[i, \"has_and\"] = bool(re.search(\"and\\(\", question_encoding))\n",
    "    run.loc[i, \"has_or\"] = bool(re.search(\"or\\(\", question_encoding))"
   ]
  },
  {
   "cell_type": "code",
   "execution_count": 3,
   "metadata": {},
   "outputs": [
    {
     "name": "stdout",
     "output_type": "stream",
     "text": [
      "\\begin{tabular}{lr}\n",
      "name & correct \\\\\n",
      "all & 40.55 \\\\\n",
      "binary & 56.87 \\\\\n",
      "open & 31.31 \\\\\n",
      "select & 40.55 \\\\\n",
      "filter & 42.65 \\\\\n",
      "filter_any & 40.92 \\\\\n",
      "relate & 37.82 \\\\\n",
      "relate_any & 8.77 \\\\\n",
      "relate_attr & 24.00 \\\\\n",
      "compare & 39.13 \\\\\n",
      "query_attr & 23.99 \\\\\n",
      "query_name & 33.64 \\\\\n",
      "verify_attr & 56.48 \\\\\n",
      "verify_rel & 62.94 \\\\\n",
      "choose_attr & 61.71 \\\\\n",
      "choose_rel & 66.35 \\\\\n",
      "exist & 56.85 \\\\\n",
      "two_same & 50.00 \\\\\n",
      "two_different & 41.30 \\\\\n",
      "all_same & 76.19 \\\\\n",
      "all_different & 60.00 \\\\\n",
      "common & 5.21 \\\\\n",
      "and & 53.17 \\\\\n",
      "or & 52.80 \\\\\n",
      "\\end{tabular}\n",
      "\n"
     ]
    }
   ],
   "source": [
    "op_types = [t[4:] for t in list(run) if t.startswith(\"has_\")]\n",
    "percentages = []\n",
    "\n",
    "# question type\n",
    "percentages.append({\n",
    "    \"name\": \"all\",\n",
    "    \"correct\": run[run[\"correct\"]].shape[0] / run.shape[0]\n",
    "})\n",
    "binary = run[(run[\"answer\"] == \"no\") | (run[\"answer\"] == \"yes\")]\n",
    "percentages.append({\n",
    "    \"name\": \"binary\",\n",
    "    \"correct\": binary[binary[\"correct\"]].shape[0] / binary.shape[0]\n",
    "})\n",
    "open = run[(run[\"answer\"] != \"no\") & (run[\"answer\"] != \"yes\")]\n",
    "percentages.append({\n",
    "    \"name\": \"open\",\n",
    "    \"correct\": open[open[\"correct\"]].shape[0] / open.shape[0]\n",
    "})\n",
    "\n",
    "# operations\n",
    "for op in op_types:\n",
    "    percentages.append({\n",
    "        \"name\": op,\n",
    "        \"correct\": run[run[f\"has_{op}\"] & run[\"correct\"]].shape[0] / max(run[run[f\"has_{op}\"]].shape[0], 1)\n",
    "    })\n",
    "    \n",
    "results = pd.DataFrame(percentages)\n",
    "results[\"correct\"] = results[\"correct\"] * 100\n",
    "print(results.style.format(precision=2).hide(axis=\"index\").to_latex())\n"
   ]
  },
  {
   "cell_type": "code",
   "execution_count": 19,
   "metadata": {},
   "outputs": [
    {
     "data": {
      "text/html": [
       "<div>\n",
       "<style scoped>\n",
       "    .dataframe tbody tr th:only-of-type {\n",
       "        vertical-align: middle;\n",
       "    }\n",
       "\n",
       "    .dataframe tbody tr th {\n",
       "        vertical-align: top;\n",
       "    }\n",
       "\n",
       "    .dataframe thead th {\n",
       "        text-align: right;\n",
       "    }\n",
       "</style>\n",
       "<table border=\"1\" class=\"dataframe\">\n",
       "  <thead>\n",
       "    <tr style=\"text-align: right;\">\n",
       "      <th></th>\n",
       "      <th>answer</th>\n",
       "      <th>model_response</th>\n",
       "    </tr>\n",
       "  </thead>\n",
       "  <tbody>\n",
       "    <tr>\n",
       "      <th>118</th>\n",
       "      <td>muffin</td>\n",
       "      <td>UNSAT</td>\n",
       "    </tr>\n",
       "    <tr>\n",
       "      <th>382</th>\n",
       "      <td>boy</td>\n",
       "      <td>[woman]</td>\n",
       "    </tr>\n",
       "  </tbody>\n",
       "</table>\n",
       "</div>"
      ],
      "text/plain": [
       "     answer model_response\n",
       "118  muffin          UNSAT\n",
       "382     boy        [woman]"
      ]
     },
     "execution_count": 19,
     "metadata": {},
     "output_type": "execute_result"
    }
   ],
   "source": [
    "run[run[\"has_compare\"]][[\"answer\", \"model_response\"]]"
   ]
  },
  {
   "cell_type": "code",
   "execution_count": 25,
   "metadata": {},
   "outputs": [
    {
     "data": {
      "text/plain": [
       "0.40289121202221495"
      ]
     },
     "execution_count": 25,
     "metadata": {},
     "output_type": "execute_result"
    }
   ],
   "source": [
    "run[run[\"correct\"]].shape[0] / run.shape[0]"
   ]
  },
  {
   "cell_type": "code",
   "execution_count": 5,
   "metadata": {},
   "outputs": [
    {
     "data": {
      "text/plain": [
       "0.9938848002138715"
      ]
     },
     "execution_count": 5,
     "metadata": {},
     "output_type": "execute_result"
    }
   ],
   "source": [
    "run[\"runtime_sec\"].mean()"
   ]
  },
  {
   "cell_type": "code",
   "execution_count": 10,
   "metadata": {},
   "outputs": [
    {
     "name": "stderr",
     "output_type": "stream",
     "text": [
      "/tmp/ipykernel_466951/2138938923.py:1: SettingWithCopyWarning: \n",
      "A value is trying to be set on a copy of a slice from a DataFrame.\n",
      "Try using .loc[row_indexer,col_indexer] = value instead\n",
      "\n",
      "See the caveats in the documentation: https://pandas.pydata.org/pandas-docs/stable/user_guide/indexing.html#returning-a-view-versus-a-copy\n",
      "  run[\"model_response\"] = run[\"model_response\"].str[0]\n"
     ]
    }
   ],
   "source": [
    "run[\"model_response\"] = run[\"model_response\"].str[0]"
   ]
  },
  {
   "cell_type": "code",
   "execution_count": 3,
   "metadata": {},
   "outputs": [],
   "source": [
    "long_run = run[run[\"runtime_sec\"] > 4]"
   ]
  },
  {
   "cell_type": "code",
   "execution_count": 7,
   "metadata": {},
   "outputs": [
    {
     "name": "stdout",
     "output_type": "stream",
     "text": [
      "select: 100.0%\n",
      "filter: 16.917293233082706%\n",
      "filter_any: 2.2556390977443606%\n",
      "relate: 58.64661654135338%\n",
      "relate_any: 76.31578947368422%\n",
      "relate_attr: 0.0%\n",
      "compare: 0.0%\n",
      "query_attr: 76.31578947368422%\n",
      "query_name: 0.0%\n",
      "verify_attr: 0.0%\n",
      "verify_rel: 0.0%\n",
      "choose_attr: 0.0%\n",
      "choose_rel: 0.0%\n",
      "exist: 0.0%\n",
      "two_same: 0.0%\n",
      "two_different: 0.0%\n",
      "all_same: 0.0%\n",
      "all_different: 0.0%\n",
      "common: 23.684210526315788%\n",
      "and: 0.0%\n",
      "or: 0.0%\n"
     ]
    }
   ],
   "source": [
    "# operations\n",
    "op_types = [t[4:] for t in list(run) if t.startswith(\"has_\")]\n",
    "for op in op_types:\n",
    "    print(f\"{op}: \" + str(long_run[long_run[f\"has_{op}\"]].shape[0] / long_run.shape[0] * 100) + \"%\")"
   ]
  },
  {
   "cell_type": "code",
   "execution_count": 18,
   "metadata": {},
   "outputs": [
    {
     "data": {
      "text/plain": [
       "266"
      ]
     },
     "execution_count": 18,
     "metadata": {},
     "output_type": "execute_result"
    }
   ],
   "source": [
    "long_run[long_run[\"has_relate_any\"] | long_run[\"has_common\"]].shape[0]"
   ]
  },
  {
   "cell_type": "code",
   "execution_count": 19,
   "metadata": {},
   "outputs": [],
   "source": [
    "run_base = pd.read_pickle(\"evaluations/testdev_base_clipbase_owllarge/results_snapshot.pkl\")\n",
    "run_base = run_base[~run_base[\"skipped\"]]"
   ]
  },
  {
   "cell_type": "code",
   "execution_count": 13,
   "metadata": {},
   "outputs": [],
   "source": [
    "run_base = run_base[:1778]"
   ]
  },
  {
   "cell_type": "code",
   "execution_count": 22,
   "metadata": {},
   "outputs": [
    {
     "name": "stderr",
     "output_type": "stream",
     "text": [
      "/tmp/ipykernel_1291481/68689323.py:1: UserWarning: Boolean Series key will be reindexed to match DataFrame index.\n",
      "  run[~run[\"correct\"] & run_base[\"correct\"]][\"semantic_str\"].tolist()\n"
     ]
    },
    {
     "data": {
      "text/plain": [
       "['select: table (2)->relate: utensil,on top of,s (1) [0]->verify color: black [1]->verify cleanliness: clean  [1]->and:  [2, 3]',\n",
       " 'select: cake (4)->verify rel: platter,on,o (-) [0]',\n",
       " 'select: flag (17)->relate: vehicle,in front of,s (16) [0]->query: name [1]',\n",
       " 'select: flag (17)->relate: vehicle,in front of,s (16) [0]->query: name [1]',\n",
       " 'select: net (10)->verify rel: man,in front of,o (8) [0]',\n",
       " 'select: door (5)->select: kitten (1) ->common:  [0, 1]',\n",
       " 'select: wall (10)->filter material: wood [0]->relate: refrigerator,in front of,s (0) [1]->exist: ? [2]',\n",
       " 'select: grass (5)->relate: person,near,s (1) [0]->verify rel: bench,sitting on,o (8) [1]',\n",
       " 'select: cabinet (9)->filter material: wood [0]->choose rel: books,to the left of|to the right of,s (2) [1]',\n",
       " 'select: countertop (17)->relate: sink,on,s (3) [0]->relate: _,under,s (13) [1]->query: name [2]',\n",
       " 'select: bench (6)->verify rel: woman,in front of,o (9) [0]',\n",
       " 'select: building (12)->verify rel: trees,in front of,o (13) [0]',\n",
       " 'select: truck (18)->verify rel: basket,in front of,o (8) [0]',\n",
       " 'select: street (23)->relate: vehicle,parked along,s (27) [0]->choose rel: car,to the right of|to the left of,s (19) [1]',\n",
       " 'select: street (9)->relate: vehicle,parked along,s (1) [0]->choose rel: van,to the left of|to the right of,s (0) [1]',\n",
       " 'select: boy (12)->filter hposition: left [0]->relate: person,walking next to,s (14) [1]->query: name [2]',\n",
       " 'select: bathroom (4)->relate: mug,in,s (1) [0]->exist: ? [1]',\n",
       " 'select: person (10)->filter pose: crouching [0]->relate: person,in front of,s (6) [1]->query: name [2]',\n",
       " 'select: bag (6)->filter color: brown [0]->verify rel: berries,behind,o (5) [1]',\n",
       " 'select: parking lot (11)->relate: skater,in,s (13) [0]->exist: ? [1]',\n",
       " 'select: faucet (3)->relate: toothbrush,to the left of,s (1) [0]->verify color: blue [1]->verify size: small  [1]->and:  [2, 3]',\n",
       " 'select: pole (9)->filter: not(short) [0]->relate: _,on,s (8) [1]->query: name [2]',\n",
       " 'select: pole (9)->relate: _,on,s (8) [0]->query: name [1]',\n",
       " 'select: flowers (24)->filter color: white [0]->verify rel: menu,behind,o (22) [1]',\n",
       " 'select: woman (8)->verify rel: plate,behind,o (11) [0]',\n",
       " 'select: fence (6)->relate: bag,near,s (0) [0]->exist: ? [1]',\n",
       " 'select: stove (2)->relate: appliance,on top of,o (3) [0]->query: color [1]',\n",
       " 'select: frisbee (7)->verify rel: trees,in front of,o (9) [0]',\n",
       " 'select: mirror (1)->relate: shower,near,s (16) [0]->verify cleanliness: dirty [1]->verify size: large  [1]->and:  [2, 3]',\n",
       " 'select: window (11)->relate: vehicle,wrapped around,o (7) [0]->choose rel: building,in front of|behind,s (5) [1]',\n",
       " 'select: pedestrian (19)->relate: vehicle,behind,o (0) [0]->query: name [1]',\n",
       " 'select: trees (2)->relate: bus,in front of,s (10) [0]->exist: ? [1]',\n",
       " 'select: desk (3)->relate: laptop,on,s (0) [0]->relate: keyboard,near,s (2) [1]->exist: ? [2]',\n",
       " 'select: faucet (16)->filter room: kitchen [0]->choose rel: stove,to the right of|to the left of,s (2) [1]',\n",
       " 'select: stove (2)->verify rel: cabinet,to the right of,o (-) [0]',\n",
       " 'select: countertop (14)->verify rel: refrigerator,above,o (-) [0]',\n",
       " 'select: man (1)->filter age: young [0]->choose rel: horse,to the left of|to the right of,s (3) [1]',\n",
       " 'select: flag (17)->filter color: green [0]->verify rel: van,behind,o (16) [1]',\n",
       " 'select: truck (5)->relate: policeman,to the left of,s (7) [0]->relate: _,riding,o (6) [1]->query: name [2]',\n",
       " 'select: cord (4)->relate: furniture,on,o (8) [0]->query: name [1]',\n",
       " 'select: man (5)->relate: animal,on,o (0) [0]->query: name [1]',\n",
       " 'select: speaker (9)->relate: device,behind,o (2) [0]->query: name [1]',\n",
       " 'select: ambulance (9)->verify rel: tractor,to the right of,o (-) [0]',\n",
       " 'select: stove (6)->relate: furniture,below,s (5) [0]->query: name [1]',\n",
       " 'select: device (9)->filter material: plastic [0]->relate: device,to the left of,s (8) [1]->query: name [2]',\n",
       " 'select: tree (10)->filter: not(short) [0]->relate: vehicle,in front of,s (3) [1]->query: name [2]',\n",
       " 'select: trees (19)->relate: place,on,o (7) [0]->query: name [1]',\n",
       " 'select: soap (9)->filter color: white [0]->verify rel: shower,in,o (16) [1]',\n",
       " 'select: cone (0)->filter size: small [0]->verify rel: machine,in front of,o (6) [1]',\n",
       " 'select: curtains (15)->relate: furniture,behind,o (3) [0]->query: name [1]',\n",
       " 'select: bottle (14)->filter: open [0]->choose rel: cat,to the left of|to the right of,s (1) [1]',\n",
       " 'select: balloons (4)->filter color: pink [0]->relate: people,near,s (1) [1]->exist: ? [2]']"
      ]
     },
     "execution_count": 22,
     "metadata": {},
     "output_type": "execute_result"
    }
   ],
   "source": [
    "run[~run[\"correct\"] & run_base[\"correct\"]][\"semantic_str\"].tolist()"
   ]
  },
  {
   "cell_type": "code",
   "execution_count": 18,
   "metadata": {},
   "outputs": [
    {
     "data": {
      "text/plain": [
       "1       False\n",
       "2       False\n",
       "3        True\n",
       "4       False\n",
       "5        True\n",
       "        ...  \n",
       "1795     True\n",
       "1796    False\n",
       "1797    False\n",
       "1798     True\n",
       "1799    False\n",
       "Name: correct, Length: 1778, dtype: bool"
      ]
     },
     "execution_count": 18,
     "metadata": {},
     "output_type": "execute_result"
    }
   ],
   "source": [
    "run[\"correct\"]"
   ]
  }
 ],
 "metadata": {
  "kernelspec": {
   "display_name": "jhadl_tf",
   "language": "python",
   "name": "python3"
  },
  "language_info": {
   "codemirror_mode": {
    "name": "ipython",
    "version": 3
   },
   "file_extension": ".py",
   "mimetype": "text/x-python",
   "name": "python",
   "nbconvert_exporter": "python",
   "pygments_lexer": "ipython3",
   "version": "3.11.2"
  },
  "orig_nbformat": 4
 },
 "nbformat": 4,
 "nbformat_minor": 2
}
